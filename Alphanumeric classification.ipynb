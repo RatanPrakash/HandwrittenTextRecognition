{
 "cells": [
  {
   "cell_type": "markdown",
   "id": "c3bc9631",
   "metadata": {},
   "source": [
    "#  Project to recognise handwritten Characters using CNN"
   ]
  },
  {
   "cell_type": "code",
   "execution_count": 2,
   "id": "transparent-passing",
   "metadata": {},
   "outputs": [],
   "source": [
    "import numpy as np\n",
    "import random\n",
    "import matplotlib.pyplot as plt\n",
    "import tensorflow as tf\n",
    "import cv2\n",
    "import csv\n",
    "import pandas as pd\n",
    "import os\n",
    "from tensorflow.keras.models import Sequential\n",
    "from tensorflow.keras.layers import Conv2D, MaxPooling2D, Dense, Flatten"
   ]
  },
  {
   "cell_type": "markdown",
   "id": "radio-router",
   "metadata": {},
   "source": [
    "# Load Dataset"
   ]
  },
  {
   "cell_type": "code",
   "execution_count": 1413,
   "id": "93c6cfb6",
   "metadata": {},
   "outputs": [],
   "source": [
    "img_size = 75\n",
    "def load_images(folder):\n",
    "    images = []\n",
    "    for filename in os.listdir(folder):\n",
    "        img = cv2.imread(os.path.join(folder,filename), cv2.IMREAD_GRAYSCALE)\n",
    "        if img is not None:\n",
    "            Rimg = cv2.resize(img, (img_size, img_size))\n",
    "            images.append([Rimg,filename])\n",
    "    return images"
   ]
  },
  {
   "cell_type": "code",
   "execution_count": 1414,
   "id": "65c70d59",
   "metadata": {},
   "outputs": [],
   "source": [
    "labels = pd.read_csv('english.csv', index_col = None)\n",
    "\n",
    "i = 0\n",
    "while i < 3410:\n",
    "    labels[\"Image\"][i] = labels[\"Image\"][i][4:]\n",
    "    i += 1\n",
    "    \n",
    "\n",
    "label_dict = labels.set_index(\"Image\").T.to_dict()  ##contains {'image name': 'label'} as key:value pair"
   ]
  },
  {
   "cell_type": "code",
   "execution_count": 1415,
   "id": "e7cc61a0",
   "metadata": {},
   "outputs": [],
   "source": [
    "input_imgs = load_images(\"Img\")      ##images are loaded as numpy array using this function call "
   ]
  },
  {
   "cell_type": "code",
   "execution_count": 1416,
   "id": "5fbc4533",
   "metadata": {},
   "outputs": [
    {
     "name": "stdout",
     "output_type": "stream",
     "text": [
      "Shape of X_train:  (3410, 200, 200, 1)\n",
      "Shape of Y_train:  (3410, 1)\n"
     ]
    }
   ],
   "source": [
    "print(\"Shape of X_train: \", X_train.shape)\n",
    "print(\"Shape of Y_train: \", Y_train.shape)"
   ]
  },
  {
   "cell_type": "code",
   "execution_count": 1417,
   "id": "b84089b3",
   "metadata": {},
   "outputs": [],
   "source": [
    "data = []\n",
    "for img  in input_imgs:\n",
    "    data.append([img[0], label_dict[img[1]][\"label\"]])\n",
    "    ##keeping   [IMAGE ARRAY, IMAGE LABEL] as list in data "
   ]
  },
  {
   "cell_type": "markdown",
   "id": "43e9aac5",
   "metadata": {},
   "source": [
    "### Forming a class dict to label all classes to a integer"
   ]
  },
  {
   "cell_type": "code",
   "execution_count": 1418,
   "id": "68d38cfc",
   "metadata": {},
   "outputs": [],
   "source": [
    "class_dict = {}\n",
    "inID = 10\n",
    "for integer in range(0,10):\n",
    "    class_dict[str(integer)] = integer\n",
    "\n",
    "for char in range(65,65+26):\n",
    "    class_dict[chr(char)] = inID\n",
    "    inID += 1\n",
    "\n",
    "for char in range(97,97+26):\n",
    "    class_dict[chr(char)] = inID\n",
    "    inID += 1\n",
    "    \n",
    "# class_dict  \n"
   ]
  },
  {
   "cell_type": "code",
   "execution_count": 1419,
   "id": "9750c0be",
   "metadata": {},
   "outputs": [],
   "source": [
    "X_train = []\n",
    "Y_train = []\n",
    "\n",
    "for img_array, img_label in data:\n",
    "    X_train.append(img_array)\n",
    "    Y_train.append(img_label)\n",
    "    \n",
    "X_train = np.array(X_train)  ##contains all the images as img_sizeximg_size array       ##.reshape(-1, img_size, img_size, 1)\n",
    "Y_train = np.array(Y_train)  ##contains array of all the labels -- 'a' 'b' '0' "
   ]
  },
  {
   "cell_type": "code",
   "execution_count": 1420,
   "id": "8c080925",
   "metadata": {},
   "outputs": [
    {
     "name": "stdout",
     "output_type": "stream",
     "text": [
      "Shape of X_train :  (3410, 75, 75)\n",
      "Shape of Y_train:  (3410,)\n"
     ]
    }
   ],
   "source": [
    "print(\"Shape of X_train : \", X_train.shape)\n",
    "print(\"Shape of Y_train: \", Y_train.shape)"
   ]
  },
  {
   "cell_type": "code",
   "execution_count": 1421,
   "id": "labeled-motivation",
   "metadata": {},
   "outputs": [],
   "source": [
    "X_train = X_train/255.0   ##scaling the values from 0 to 1"
   ]
  },
  {
   "cell_type": "code",
   "execution_count": 1422,
   "id": "6d8cf514",
   "metadata": {},
   "outputs": [],
   "source": [
    "## this block of code CONVERTS the STRING LABELS to INT CLASSES\n",
    "l = 0\n",
    "k = []\n",
    "while l < 3410:\n",
    "    k.append(class_dict[Y_train[l]])\n",
    "    l += 1 \n",
    "Y_train = np.array(k)  ##now Y_train contains labels as ({class dict - labels} INTEGER CLASSES)"
   ]
  },
  {
   "cell_type": "code",
   "execution_count": 1423,
   "id": "demanding-grocery",
   "metadata": {},
   "outputs": [
    {
     "name": "stdout",
     "output_type": "stream",
     "text": [
      "Shape of X_train:  (3410, 75, 75, 1)\n",
      "Shape of Y_train:  (3410, 1)\n"
     ]
    }
   ],
   "source": [
    "X_train = X_train.reshape(len(X_train), img_size, img_size, 1)\n",
    "Y_train = Y_train.reshape(len(Y_train), 1)\n",
    "\n",
    "print(\"Shape of X_train: \", X_train.shape)\n",
    "print(\"Shape of Y_train: \", Y_train.shape)"
   ]
  },
  {
   "cell_type": "markdown",
   "id": "precise-munich",
   "metadata": {},
   "source": [
    "# tensorflow Model "
   ]
  },
  {
   "cell_type": "code",
   "execution_count": 1508,
   "id": "bigger-spain",
   "metadata": {},
   "outputs": [],
   "source": [
    "model = Sequential([\n",
    "    Conv2D(16, (3,3), activation = 'relu', input_shape = (img_size, img_size, 1)),\n",
    "    MaxPooling2D((2,2)),\n",
    "    \n",
    "    Conv2D(32, (3,3), activation = 'relu'),\n",
    "    MaxPooling2D((2,2)),\n",
    "    \n",
    "#     Conv2D(16, (3,3), activation = 'relu'),\n",
    "#     MaxPooling2D((2,2)),\n",
    "    \n",
    "    Flatten(),\n",
    "    Dense(128, activation = 'relu'),\n",
    "    Dense(62, activation = 'softmax')\n",
    "])"
   ]
  },
  {
   "cell_type": "code",
   "execution_count": 1509,
   "id": "special-prior",
   "metadata": {},
   "outputs": [
    {
     "name": "stdout",
     "output_type": "stream",
     "text": [
      "Model: \"sequential_23\"\n",
      "_________________________________________________________________\n",
      " Layer (type)                Output Shape              Param #   \n",
      "=================================================================\n",
      " conv2d_55 (Conv2D)          (None, 73, 73, 16)        160       \n",
      "                                                                 \n",
      " max_pooling2d_55 (MaxPoolin  (None, 36, 36, 16)       0         \n",
      " g2D)                                                            \n",
      "                                                                 \n",
      " conv2d_56 (Conv2D)          (None, 34, 34, 32)        4640      \n",
      "                                                                 \n",
      " max_pooling2d_56 (MaxPoolin  (None, 17, 17, 32)       0         \n",
      " g2D)                                                            \n",
      "                                                                 \n",
      " flatten_23 (Flatten)        (None, 9248)              0         \n",
      "                                                                 \n",
      " dense_46 (Dense)            (None, 128)               1183872   \n",
      "                                                                 \n",
      " dense_47 (Dense)            (None, 62)                7998      \n",
      "                                                                 \n",
      "=================================================================\n",
      "Total params: 1,196,670\n",
      "Trainable params: 1,196,670\n",
      "Non-trainable params: 0\n",
      "_________________________________________________________________\n"
     ]
    }
   ],
   "source": [
    "model.compile(loss = 'sparse_categorical_crossentropy', optimizer = 'adam', metrics = ['accuracy'])\n",
    "model.summary()"
   ]
  },
  {
   "cell_type": "code",
   "execution_count": 1510,
   "id": "wrapped-volume",
   "metadata": {},
   "outputs": [
    {
     "name": "stdout",
     "output_type": "stream",
     "text": [
      "Epoch 1/20\n"
     ]
    },
    {
     "name": "stderr",
     "output_type": "stream",
     "text": [
      "2022-10-28 03:40:24.931783: I tensorflow/core/grappler/optimizers/custom_graph_optimizer_registry.cc:114] Plugin optimizer for device_type GPU is enabled.\n"
     ]
    },
    {
     "name": "stdout",
     "output_type": "stream",
     "text": [
      "54/54 [==============================] - 2s 37ms/step - loss: 4.0166 - accuracy: 0.0581\n",
      "Epoch 2/20\n",
      "54/54 [==============================] - 2s 31ms/step - loss: 3.0422 - accuracy: 0.2472\n",
      "Epoch 3/20\n",
      "54/54 [==============================] - 2s 31ms/step - loss: 2.1713 - accuracy: 0.4537\n",
      "Epoch 4/20\n",
      "54/54 [==============================] - 2s 30ms/step - loss: 1.6081 - accuracy: 0.5891\n",
      "Epoch 5/20\n",
      "54/54 [==============================] - 2s 32ms/step - loss: 1.1734 - accuracy: 0.6853\n",
      "Epoch 6/20\n",
      "54/54 [==============================] - 2s 29ms/step - loss: 0.8265 - accuracy: 0.7765\n",
      "Epoch 7/20\n",
      "54/54 [==============================] - 2s 30ms/step - loss: 0.5694 - accuracy: 0.8490\n",
      "Epoch 8/20\n",
      "54/54 [==============================] - 2s 30ms/step - loss: 0.4036 - accuracy: 0.8956\n",
      "Epoch 9/20\n",
      "54/54 [==============================] - 2s 30ms/step - loss: 0.2774 - accuracy: 0.9252\n",
      "Epoch 10/20\n",
      "54/54 [==============================] - 2s 30ms/step - loss: 0.1772 - accuracy: 0.9581\n",
      "Epoch 11/20\n",
      "54/54 [==============================] - 2s 30ms/step - loss: 0.1230 - accuracy: 0.9730\n",
      "Epoch 12/20\n",
      "54/54 [==============================] - 2s 30ms/step - loss: 0.0769 - accuracy: 0.9833\n",
      "Epoch 13/20\n",
      "54/54 [==============================] - 2s 30ms/step - loss: 0.0463 - accuracy: 0.9912\n",
      "Epoch 14/20\n",
      "54/54 [==============================] - 2s 30ms/step - loss: 0.0365 - accuracy: 0.9915\n",
      "Epoch 15/20\n",
      "54/54 [==============================] - 2s 30ms/step - loss: 0.0252 - accuracy: 0.9950\n",
      "Epoch 16/20\n",
      "54/54 [==============================] - 2s 30ms/step - loss: 0.0332 - accuracy: 0.9927\n",
      "Epoch 17/20\n",
      "54/54 [==============================] - 2s 30ms/step - loss: 0.0316 - accuracy: 0.9930\n",
      "Epoch 18/20\n",
      "54/54 [==============================] - 2s 30ms/step - loss: 0.0250 - accuracy: 0.9941\n",
      "Epoch 19/20\n",
      "54/54 [==============================] - 2s 31ms/step - loss: 0.0315 - accuracy: 0.9921\n",
      "Epoch 20/20\n",
      "54/54 [==============================] - 2s 30ms/step - loss: 0.0226 - accuracy: 0.9959\n"
     ]
    }
   ],
   "source": [
    "hist = model.fit(X_train, Y_train, epochs = 20, batch_size = 64)"
   ]
  },
  {
   "cell_type": "code",
   "execution_count": 1511,
   "id": "settled-thesis",
   "metadata": {},
   "outputs": [
    {
     "data": {
      "text/plain": [
       "<matplotlib.legend.Legend at 0x2d4fbeb20>"
      ]
     },
     "execution_count": 1511,
     "metadata": {},
     "output_type": "execute_result"
    },
    {
     "data": {
      "image/png": "[encoded data removed]",
      "text/plain": [
       "<Figure size 640x480 with 1 Axes>"
      ]
     },
     "metadata": {},
     "output_type": "display_data"
    }
   ],
   "source": [
    "# model.evaluate(X_train, Y_train)\n",
    "\n",
    "plt.plot(hist.history['loss'], color = 'red', label = 'loss')\n",
    "plt.plot(hist.history['accuracy'], color = 'green', label = 'accuracy')\n",
    "plt.legend(loc = 'upper right')\n",
    "# plt.grid(True)"
   ]
  },
  {
   "cell_type": "markdown",
   "id": "alternate-bloom",
   "metadata": {},
   "source": [
    "# Making predictions"
   ]
  },
  {
   "cell_type": "code",
   "execution_count": 1526,
   "id": "understanding-hartford",
   "metadata": {},
   "outputs": [
    {
     "name": "stdout",
     "output_type": "stream",
     "text": [
      "Image no. =  2059\n",
      "Image label accd to dict:  35\n",
      "1/1 [==============================] - 0s 14ms/step\n",
      "Our model says it is : 35\n",
      "It is found to be :  Z\n"
     ]
    },
    {
     "data": {
      "image/png": "[encoded data removed]",
      "text/plain": [
       "<Figure size 640x480 with 1 Axes>"
      ]
     },
     "metadata": {},
     "output_type": "display_data"
    }
   ],
   "source": [
    "# idx2 = random.randint(0, len(data))\n",
    "# plt.imshow(data[idx2, 0, :])\n",
    "# plt.show()\n",
    "idx = random.randint(0, len(data))\n",
    "print(\"Image no. = \",idx)\n",
    "plt.imshow(data[idx][0]) #cmap = 'gray')\n",
    "print(\"Image label accd to dict: \", y[idx])\n",
    "\n",
    "y_pred = model.predict(data[idx][0].reshape(1, img_size, img_size, 1))\n",
    "prediction = np.argmax(y_pred)\n",
    "\n",
    "print(\"Our model says it is :\", prediction)\n",
    "\n",
    "print(\"It is found to be : \", list(class_dict.keys())\n",
    "      [list(class_dict.values()).index(prediction)])\n",
    "    \n",
    "# print(y_pred)"
   ]
  },
  {
   "cell_type": "code",
   "execution_count": 1,
   "id": "colonial-genealogy",
   "metadata": {},
   "outputs": [
    {
     "ename": "NameError",
     "evalue": "name 'os' is not defined",
     "output_type": "error",
     "traceback": [
      "\u001b[0;31m---------------------------------------------------------------------------\u001b[0m",
      "\u001b[0;31mNameError\u001b[0m                                 Traceback (most recent call last)",
      "Input \u001b[0;32mIn [1]\u001b[0m, in \u001b[0;36m<cell line: 1>\u001b[0;34m()\u001b[0m\n\u001b[0;32m----> 1\u001b[0m testing_data \u001b[38;5;241m=\u001b[39m \u001b[43mos\u001b[49m\u001b[38;5;241m.\u001b[39mlistdir(\u001b[38;5;124m'\u001b[39m\u001b[38;5;124mtest_folder\u001b[39m\u001b[38;5;124m'\u001b[39m)\n\u001b[1;32m      2\u001b[0m r \u001b[38;5;241m=\u001b[39m random\u001b[38;5;241m.\u001b[39mrandint(\u001b[38;5;241m0\u001b[39m, \u001b[38;5;28mlen\u001b[39m(testing_data)\u001b[38;5;241m-\u001b[39m\u001b[38;5;241m1\u001b[39m)\n\u001b[1;32m      3\u001b[0m image \u001b[38;5;241m=\u001b[39m testing_data[r]\n",
      "\u001b[0;31mNameError\u001b[0m: name 'os' is not defined"
     ]
    }
   ],
   "source": [
    "testing_data = os.listdir('test_folder')\n",
    "r = random.randint(0, len(testing_data)-1)\n",
    "image = testing_data[r]\n",
    "path = f\"/Users/ratanprakash/Documents/tf_project/test_folder/{image}\"\n",
    "# path = r\"/Users/ratanprakash/Documents/tf_project/test_folder/rr.png\"\n",
    "\n",
    "test_image = cv2.imread(path, cv2.IMREAD_GRAYSCALE)\n",
    "test_image = cv2.resize(test_image, (img_size, img_size))\n",
    "# test_image = np.invert(test_image)\n",
    "test_image = test_image/255.0\n",
    "contrast_test_image = np.round_(test_image)\n",
    "test_image = contrast_test_image\n",
    "plt.imshow(test_image) #cmap='gray')\n",
    "\n",
    "test_image = test_image.reshape(1, img_size, img_size, 1)\n",
    "y_pred = model.predict(test_image)\n",
    "prediction = np.argmax(y_pred)\n",
    "\n",
    "print(\"Our model says it is a :\", prediction)\n",
    "print(\"It is estimated to be : \", list(class_dict.keys())\n",
    "      [list(class_dict.values()).index(prediction)])\n",
    "print(image)"
   ]
  },
  {
   "cell_type": "code",
   "execution_count": null,
   "id": "df9bcc77",
   "metadata": {},
   "outputs": [],
   "source": [
    "\n",
    "\n",
    "\n",
    "\n",
    "\n",
    "\n",
    "\n",
    "\n",
    "\n",
    "\n",
    "\n",
    "\n",
    "\n",
    "\n",
    "\n",
    "\n",
    "\n",
    "\n",
    "\n",
    "\n",
    "\n",
    "\n",
    "\n",
    "\n",
    "\n",
    "\n",
    "\n",
    "\n"
   ]
  }
 ],
 "metadata": {
  "kernelspec": {
   "display_name": "Python 3 (ipykernel)",
   "language": "python",
   "name": "python3"
  },
  "language_info": {
   "codemirror_mode": {
    "name": "ipython",
    "version": 3
   },
   "file_extension": ".py",
   "mimetype": "text/x-python",
   "name": "python",
   "nbconvert_exporter": "python",
   "pygments_lexer": "ipython3",
   "version": "3.9.12"
  }
 },
 "nbformat": 4,
 "nbformat_minor": 5
}
