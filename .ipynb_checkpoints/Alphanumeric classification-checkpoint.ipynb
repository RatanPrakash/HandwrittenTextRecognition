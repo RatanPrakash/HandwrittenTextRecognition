{
 "cells": [
  {
   "cell_type": "markdown",
   "id": "aa35b606",
   "metadata": {},
   "source": [
    "#  Project to recognise handwritten Characters using CNN"
   ]
  },
  {
   "cell_type": "code",
   "execution_count": 48,
   "id": "transparent-passing",
   "metadata": {},
   "outputs": [],
   "source": [
    "import numpy as np\n",
    "import random\n",
    "import matplotlib.pyplot as plt\n",
    "import tensorflow as tf\n",
    "import cv2\n",
    "import csv\n",
    "import pandas as pd\n",
    "import os\n",
    "from tensorflow.keras.models import Sequential\n",
    "from tensorflow.keras.layers import Conv2D, MaxPooling2D, Dense, Flatten"
   ]
  },
  {
   "cell_type": "markdown",
   "id": "radio-router",
   "metadata": {},
   "source": [
    "# Load Dataset"
   ]
  },
  {
   "cell_type": "code",
   "execution_count": 4,
   "id": "93c6cfb6",
   "metadata": {},
   "outputs": [],
   "source": [
    "\n",
    "def load_images(folder):\n",
    "    images = []\n",
    "    for filename in os.listdir(folder):\n",
    "        img = cv2.imread(os.path.join(folder,filename), cv2.IMREAD_GRAYSCALE)\n",
    "        if img is not None:\n",
    "            Rimg = cv2.resize(img, (100,100))\n",
    "            images.append([Rimg,filename])\n",
    "    return images"
   ]
  },
  {
   "cell_type": "code",
   "execution_count": 52,
   "id": "65c70d59",
   "metadata": {},
   "outputs": [],
   "source": [
    "labels = pd.read_csv('english.csv', index_col = None)\n",
    "\n",
    "i = 0\n",
    "while i < 3410:\n",
    "    labels[\"Image\"][i] = labels[\"Image\"][i][4:]\n",
    "    i += 1\n",
    "    \n",
    "\n",
    "label_dict = labels.set_index(\"Image\").T.to_dict()  ##contains {'image name': 'label'} as key:value pair"
   ]
  },
  {
   "cell_type": "code",
   "execution_count": 8,
   "id": "e7cc61a0",
   "metadata": {},
   "outputs": [],
   "source": [
    "input_imgs = load_images(\"Img\")      ##images are loaded as numpy array using this function call "
   ]
  },
  {
   "cell_type": "code",
   "execution_count": 53,
   "id": "bebb77fb",
   "metadata": {},
   "outputs": [],
   "source": [
    "# with open('english.csv') as csv_file:\n",
    "#     csv_reader = csv.reader(csv_file, delimiter = ',')\n",
    "#     list_of_column_names = []\n",
    "#     for row in csv_reader:\n",
    "#         row = row[1]\n",
    "#         list_of_column_names.append([row])"
   ]
  },
  {
   "cell_type": "code",
   "execution_count": 57,
   "id": "damaged-kennedy",
   "metadata": {},
   "outputs": [],
   "source": [
    "input_imgs = np.array(input_imgs)            ##contains an array of [IMAGE ARRAY, 'IMAGE NAME']\n",
    "# Y_train = np.array(list_of_column_names)  ##array of array of all the labels\n",
    "# Y_train = Y_train[1:] ##removed 1st row 'label'"
   ]
  },
  {
   "cell_type": "code",
   "execution_count": 59,
   "id": "5fbc4533",
   "metadata": {},
   "outputs": [
    {
     "name": "stdout",
     "output_type": "stream",
     "text": [
      "Shape of X_train:  (3410, 2)\n",
      "Shape of Y_train:  (3410, 1)\n"
     ]
    }
   ],
   "source": [
    "print(\"Shape of X_train: \", X_train.shape)\n",
    "print(\"Shape of Y_train: \", Y_train.shape)"
   ]
  },
  {
   "cell_type": "code",
   "execution_count": 60,
   "id": "b84089b3",
   "metadata": {},
   "outputs": [],
   "source": [
    "data = []\n",
    "for img  in input_imgs:\n",
    "    data.append([img[0], label_dict[img[1]][\"label\"]])\n",
    "    ##keeping   [IMAGE ARRAY, IMAGE LABEL] as list in data "
   ]
  },
  {
   "cell_type": "markdown",
   "id": "7a9331f6",
   "metadata": {},
   "source": [
    "### Forming a class dict to label all classes to a integer"
   ]
  },
  {
   "cell_type": "code",
   "execution_count": 102,
   "id": "68d38cfc",
   "metadata": {},
   "outputs": [],
   "source": [
    "class_dict = {}\n",
    "inID = 10\n",
    "for integer in range(0,10):\n",
    "    class_dict[str(integer)] = integer\n",
    "\n",
    "for char in range(65,65+26):\n",
    "    class_dict[chr(char)] = inID\n",
    "    inID += 1\n",
    "\n",
    "for char in range(97,97+26):\n",
    "    class_dict[chr(char)] = inID\n",
    "    inID += 1\n",
    "    \n",
    "# class_dict  \n"
   ]
  },
  {
   "cell_type": "code",
   "execution_count": 148,
   "id": "9750c0be",
   "metadata": {},
   "outputs": [],
   "source": [
    "X_train = []\n",
    "Y_train = []\n",
    "\n",
    "for img_array, img_label in data:\n",
    "    X_train.append(img_array)\n",
    "    Y_train.append(img_label)\n",
    "    \n",
    "X_train = np.array(X_train)  ##contains all the images as 100x100 array       ##.reshape(-1, 100, 100, 1)\n",
    "Y_train = np.array(Y_train)  ##contains array of all the labels -- 'a' 'b' '0' "
   ]
  },
  {
   "cell_type": "code",
   "execution_count": 149,
   "id": "8c080925",
   "metadata": {},
   "outputs": [
    {
     "name": "stdout",
     "output_type": "stream",
     "text": [
      "Shape of X_train:  (3410, 100, 100)\n",
      "Shape of Y_train:  (3410,)\n"
     ]
    }
   ],
   "source": [
    "print(\"Shape of X_train: \", X_train.shape)\n",
    "print(\"Shape of Y_train: \", Y_train.shape)"
   ]
  },
  {
   "cell_type": "code",
   "execution_count": 150,
   "id": "labeled-motivation",
   "metadata": {},
   "outputs": [],
   "source": [
    "X_train = X_train/255.0   ##scaling the values from 0 to 1"
   ]
  },
  {
   "cell_type": "code",
   "execution_count": 152,
   "id": "62bd3d68",
   "metadata": {},
   "outputs": [],
   "source": [
    "# X_train[0]"
   ]
  },
  {
   "cell_type": "code",
   "execution_count": 153,
   "id": "6d8cf514",
   "metadata": {},
   "outputs": [],
   "source": [
    "## this block of code CONVERTS the STRING LABELS to INT CLASSES\n",
    "l = 0\n",
    "k = []\n",
    "while l < 3410:\n",
    "    k.append(class_dict[Y_train[l]])\n",
    "    l += 1 \n",
    "Y_train = np.array(k)  ##now Y_train contains labels as ({class dict - labels} INTEGER CLASSES)"
   ]
  },
  {
   "cell_type": "code",
   "execution_count": 154,
   "id": "demanding-grocery",
   "metadata": {},
   "outputs": [
    {
     "name": "stdout",
     "output_type": "stream",
     "text": [
      "Shape of X_train:  (3410, 100, 100, 1)\n",
      "Shape of Y_train:  (3410, 1)\n"
     ]
    }
   ],
   "source": [
    "X_train = X_train.reshape(len(X_train), 100, 100, 1)\n",
    "Y_train = Y_train.reshape(len(Y_train), 1)\n",
    "\n",
    "print(\"Shape of X_train: \", X_train.shape)\n",
    "print(\"Shape of Y_train: \", Y_train.shape)"
   ]
  },
  {
   "cell_type": "markdown",
   "id": "precise-munich",
   "metadata": {},
   "source": [
    "# tensorflow Model "
   ]
  },
  {
   "cell_type": "code",
   "execution_count": 185,
   "id": "bigger-spain",
   "metadata": {},
   "outputs": [],
   "source": [
    "model = Sequential([\n",
    "    Conv2D(64, (3,3), activation = 'relu', input_shape = (100, 100, 1)),\n",
    "    MaxPooling2D((2,2)),\n",
    "    \n",
    "    Conv2D(64, (3,3), activation = 'relu'),\n",
    "    MaxPooling2D((2,2)),\n",
    "    \n",
    "    Flatten(),\n",
    "    Dense(128, activation = 'relu'),\n",
    "    Dense(62, activation = 'softmax')\n",
    "])"
   ]
  },
  {
   "cell_type": "code",
   "execution_count": 186,
   "id": "exclusive-capability",
   "metadata": {},
   "outputs": [],
   "source": [
    "# model = Sequential()\n",
    "\n",
    "# model.add(Conv2D(32, (3,3), activation = 'relu', input_shape = (100, 100, 1)))\n",
    "# model.add(MaxPooling2D((2,2)))\n",
    "\n",
    "# model.add(Conv2D(32, (3,3), activation = 'relu'))\n",
    "# model.add(MaxPooling2D((2,2)))\n",
    "\n",
    "# model.add(Flatten())\n",
    "# model.add(Dense(128, activation = 'relu'))\n",
    "# model.add(Dense(62, activation = 'softmax'))"
   ]
  },
  {
   "cell_type": "code",
   "execution_count": 187,
   "id": "special-prior",
   "metadata": {},
   "outputs": [],
   "source": [
    "model.compile(loss = 'sparse_categorical_crossentropy', optimizer = 'adam', metrics = ['accuracy'])"
   ]
  },
  {
   "cell_type": "code",
   "execution_count": 188,
   "id": "wrapped-volume",
   "metadata": {},
   "outputs": [
    {
     "name": "stdout",
     "output_type": "stream",
     "text": [
      "Epoch 1/8\n"
     ]
    },
    {
     "name": "stderr",
     "output_type": "stream",
     "text": [
      "2022-10-27 22:30:29.301671: I tensorflow/core/grappler/optimizers/custom_graph_optimizer_registry.cc:114] Plugin optimizer for device_type GPU is enabled.\n"
     ]
    },
    {
     "name": "stdout",
     "output_type": "stream",
     "text": [
      "54/54 [==============================] - 9s 153ms/step - loss: 3.9081 - accuracy: 0.0806\n",
      "Epoch 2/8\n",
      "54/54 [==============================] - 8s 149ms/step - loss: 2.6013 - accuracy: 0.3425\n",
      "Epoch 3/8\n",
      "54/54 [==============================] - 8s 149ms/step - loss: 1.6019 - accuracy: 0.5739\n",
      "Epoch 4/8\n",
      "54/54 [==============================] - 8s 149ms/step - loss: 0.9478 - accuracy: 0.7475\n",
      "Epoch 5/8\n",
      "54/54 [==============================] - 8s 148ms/step - loss: 0.5186 - accuracy: 0.8581\n",
      "Epoch 6/8\n",
      "54/54 [==============================] - 8s 151ms/step - loss: 0.2858 - accuracy: 0.9258\n",
      "Epoch 7/8\n",
      "54/54 [==============================] - 8s 150ms/step - loss: 0.1424 - accuracy: 0.9633\n",
      "Epoch 8/8\n",
      "54/54 [==============================] - 8s 149ms/step - loss: 0.1016 - accuracy: 0.9710\n"
     ]
    },
    {
     "data": {
      "text/plain": [
       "<keras.callbacks.History at 0x282168c70>"
      ]
     },
     "execution_count": 188,
     "metadata": {},
     "output_type": "execute_result"
    }
   ],
   "source": [
    "model.fit(X_train, Y_train, epochs = 8, batch_size = 64)"
   ]
  },
  {
   "cell_type": "code",
   "execution_count": null,
   "id": "settled-thesis",
   "metadata": {},
   "outputs": [],
   "source": [
    "# model.evaluate(X_test, Y_test)\n"
   ]
  },
  {
   "cell_type": "markdown",
   "id": "alternate-bloom",
   "metadata": {},
   "source": [
    "# Making predictions"
   ]
  },
  {
   "cell_type": "code",
   "execution_count": 263,
   "id": "understanding-hartford",
   "metadata": {},
   "outputs": [
    {
     "name": "stdout",
     "output_type": "stream",
     "text": [
      "Image no. =  2398\n",
      "Image label accd to dict:  48\n",
      "1/1 [==============================] - 0s 15ms/step\n",
      "Our model says it is : 48\n",
      "It is found to be :  m\n"
     ]
    },
    {
     "data": {
      "image/png": "[encoded data removed]",
      "text/plain": [
       "<Figure size 640x480 with 1 Axes>"
      ]
     },
     "metadata": {},
     "output_type": "display_data"
    }
   ],
   "source": [
    "# idx2 = random.randint(0, len(data))\n",
    "# plt.imshow(data[idx2, 0, :])\n",
    "# plt.show()\n",
    "idx = random.randint(0, len(data))\n",
    "print(\"Image no. = \",idx)\n",
    "plt.imshow(data[idx][0], cmap = 'gray')\n",
    "print(\"Image label accd to dict: \", y[idx])\n",
    "\n",
    "y_pred = model.predict(data[idx][0].reshape(1,100,100,1))\n",
    "prediction = np.argmax(y_pred)\n",
    "\n",
    "print(\"Our model says it is :\", prediction)\n",
    "\n",
    "print(\"It is found to be : \", list(class_dict.keys())\n",
    "      [list(class_dict.values()).index(prediction)])\n",
    "    \n",
    "# print(y_pred)"
   ]
  },
  {
   "cell_type": "code",
   "execution_count": 264,
   "id": "colonial-genealogy",
   "metadata": {},
   "outputs": [
    {
     "name": "stdout",
     "output_type": "stream",
     "text": [
      "1/1 [==============================] - 0s 36ms/step\n",
      "Our model says it is a : 3\n",
      "It is estimated to be :  3\n"
     ]
    },
    {
     "data": {
      "image/png": "[encoded data removed]",
      "text/plain": [
       "<Figure size 640x480 with 1 Axes>"
      ]
     },
     "metadata": {},
     "output_type": "display_data"
    }
   ],
   "source": [
    "path = r\"/Users/ratanprakash/Downloads/three.png\"\n",
    "\n",
    "test_image = cv2.imread(path, cv2.IMREAD_GRAYSCALE)\n",
    "test_image = cv2.resize(test_image, (100,100))\n",
    "# test_image = np.invert(test_image)\n",
    "test_image = test_image/255.0\n",
    "contrast_test_image = np.round_(test_image)\n",
    "\n",
    "test_image = contrast_test_image\n",
    "plt.imshow(test_image, cmap='gray')\n",
    "test_image = test_image.reshape(1, 100, 100, 1)\n",
    "\n",
    "\n",
    "y_pred = model.predict(test_image)\n",
    "prediction = np.argmax(y_pred)\n",
    "\n",
    "print(\"Our model says it is a :\", prediction)\n",
    "\n",
    "try:\n",
    "    print(\"It is estimated to be : \", list(class_dict.keys())\n",
    "          [list(class_dict.values()).index(prediction)])\n",
    "except:\n",
    "    print(\"It is estimated to be : \",int(prediction))"
   ]
  }
 ],
 "metadata": {
  "kernelspec": {
   "display_name": "Python 3 (ipykernel)",
   "language": "python",
   "name": "python3"
  },
  "language_info": {
   "codemirror_mode": {
    "name": "ipython",
    "version": 3
   },
   "file_extension": ".py",
   "mimetype": "text/x-python",
   "name": "python",
   "nbconvert_exporter": "python",
   "pygments_lexer": "ipython3",
   "version": "3.9.12"
  }
 },
 "nbformat": 4,
 "nbformat_minor": 5
}
